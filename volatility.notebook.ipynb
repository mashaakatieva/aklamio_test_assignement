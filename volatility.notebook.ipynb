{
 "cells": [
  {
   "cell_type": "code",
   "execution_count": null,
   "source": [],
   "outputs": [],
   "metadata": {}
  }
 ],
 "metadata": {
  "orig_nbformat": 4,
  "language_info": {
   "name": "python",
   "version": "3.8.10"
  },
  "kernelspec": {
   "name": "python3",
   "display_name": "Python 3.8.10 64-bit ('p3': conda)"
  },
  "interpreter": {
   "hash": "c16f3e2d35285424af4456962cd0d0adec2242512c12e361aa76fd50e768596f"
  }
 },
 "nbformat": 4,
 "nbformat_minor": 2
}