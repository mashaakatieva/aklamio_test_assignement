{
 "cells": [
  {
   "cell_type": "code",
   "execution_count": 2,
   "source": [
    "import pandas\r\n",
    "df = pandas.read_csv('resources/all_stocks_5yr.csv')\r\n",
    "print(df)"
   ],
   "outputs": [
    {
     "output_type": "stream",
     "name": "stdout",
     "text": [
      "              date   open   high    low  close    volume Name\n",
      "0       2013-02-08  15.07  15.12  14.63  14.75   8407500  AAL\n",
      "1       2013-02-11  14.89  15.01  14.26  14.46   8882000  AAL\n",
      "2       2013-02-12  14.45  14.51  14.10  14.27   8126000  AAL\n",
      "3       2013-02-13  14.30  14.94  14.25  14.66  10259500  AAL\n",
      "4       2013-02-14  14.94  14.96  13.16  13.99  31879900  AAL\n",
      "...            ...    ...    ...    ...    ...       ...  ...\n",
      "619035  2018-02-01  76.84  78.27  76.69  77.82   2982259  ZTS\n",
      "619036  2018-02-02  77.53  78.12  76.73  76.78   2595187  ZTS\n",
      "619037  2018-02-05  76.64  76.92  73.18  73.83   2962031  ZTS\n",
      "619038  2018-02-06  72.74  74.56  72.13  73.27   4924323  ZTS\n",
      "619039  2018-02-07  72.70  75.00  72.69  73.86   4534912  ZTS\n",
      "\n",
      "[619040 rows x 7 columns]\n"
     ]
    }
   ],
   "metadata": {}
  }
 ],
 "metadata": {
  "orig_nbformat": 4,
  "language_info": {
   "name": "python",
   "version": "3.8.10",
   "mimetype": "text/x-python",
   "codemirror_mode": {
    "name": "ipython",
    "version": 3
   },
   "pygments_lexer": "ipython3",
   "nbconvert_exporter": "python",
   "file_extension": ".py"
  },
  "kernelspec": {
   "name": "python3",
   "display_name": "Python 3.8.10 64-bit ('p3': conda)"
  },
  "interpreter": {
   "hash": "c16f3e2d35285424af4456962cd0d0adec2242512c12e361aa76fd50e768596f"
  }
 },
 "nbformat": 4,
 "nbformat_minor": 2
}